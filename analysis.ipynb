{
 "cells": [
  {
   "cell_type": "code",
   "execution_count": null,
   "metadata": {},
   "outputs": [],
   "source": [
    "%load_ext autoreload\n",
    "%autoreload 2\n",
    "import matplotlib.pyplot as plt\n",
    "import numpy as np\n",
    "import pandas as pd\n",
    "import seaborn as sns\n",
    "N_ranks = 4\n",
    "orbital_period = 6000\n",
    "folder = \"results_1\""
   ]
  },
  {
   "cell_type": "code",
   "execution_count": null,
   "metadata": {},
   "outputs": [],
   "source": [
    "losses = []\n",
    "timestep = []\n",
    "for rank in range(N_ranks):\n",
    "    losses.append(np.loadtxt(folder + \"/loss_rank\"+str(rank)+\".csv\", delimiter=\",\"))\n",
    "    timestep.append(np.loadtxt(folder + \"/time_at_loss_rank\"+str(rank)+\".csv\", delimiter=\",\"))"
   ]
  },
  {
   "cell_type": "code",
   "execution_count": null,
   "metadata": {},
   "outputs": [],
   "source": [
    "sns.set_theme(style=\"whitegrid\")\n",
    "plt.figure(figsize=(12, 6),dpi=150)\n",
    "for time,loss in zip(timestep,losses):\n",
    "    plt.plot((time - time[0]) / orbital_period,loss)\n",
    "plt.xlabel(\"Completed Orbits\")\n",
    "plt.ylabel(\"Loss\")\n",
    "plt.yscale(\"log\")\n",
    "plt.legend([\"Rank=\"+str(rank) for rank in range(N_ranks)])"
   ]
  },
  {
   "cell_type": "code",
   "execution_count": null,
   "metadata": {},
   "outputs": [],
   "source": [
    "data_all_ranks = []\n",
    "for rank in range(N_ranks):\n",
    "    data_all_ranks.append(pd.read_csv(folder + \"/\" + str(rank)+\".csv\"))"
   ]
  },
  {
   "cell_type": "code",
   "execution_count": null,
   "metadata": {},
   "outputs": [],
   "source": [
    "from create_plots import get_known_actor_comms_status\n",
    "# Quantities we wanna track\n",
    "quantities = [\"temperature\",\"state_of_charge\",\"current_activity\",\"known_actors\"]\n",
    "\n",
    "# Setup data frame to collect all data\n",
    "df = pd.DataFrame(columns=(\"Time\",\"ID\"))\n",
    "for idx,item in enumerate(quantities):\n",
    "    names = []\n",
    "\n",
    "    # Dataframe for this quantity\n",
    "    small_df = pd.DataFrame(columns=(\"Time\",\"ID\"))\n",
    "    \n",
    "    plt.figure(figsize=(8, 2),dpi=150)\n",
    "\n",
    "    # Get dat afrom all satellites and plot it\n",
    "    for rank,data in enumerate(data_all_ranks):\n",
    "\n",
    "        # Get time of each data point\n",
    "        timesteps = data[\"timesteps\"]\n",
    "\n",
    "        # Get data\n",
    "        if item == \"known_actors\":\n",
    "            values = get_known_actor_comms_status(data[item])\n",
    "        else:\n",
    "            values = data[item]\n",
    "        names.append(rank)\n",
    "\n",
    "        # Collect data from this sat into big dataframe\n",
    "        smaller_df = pd.DataFrame({\"Time\": timesteps,\"ID\": len(timesteps)*[rank],item: values})\n",
    "        small_df = pd.concat([small_df,smaller_df])\n",
    "        \n",
    "        # Plot it :)\n",
    "        plt.plot(timesteps,values)\n",
    "        plt.xlabel(\"Time [s]\")\n",
    "        plt.ylabel(item.replace(\"_\", \" \"))\n",
    "        if item == \"known_actors\":\n",
    "            plt.yticks([0, 1, 2, 3], [\"None\", \"Svalbard\", \"Matera\", \"Maspalomas\"])\n",
    "\n",
    "    # Add a legend showing which satellite is which\n",
    "    plt.legend(\n",
    "            names,\n",
    "            fontsize = 8,\n",
    "            bbox_to_anchor=(0.5, 1.4),\n",
    "            ncol=10,\n",
    "            loc=\"upper center\",\n",
    "    )\n",
    "    \n",
    "    df = df.merge(small_df,how=\"right\")"
   ]
  },
  {
   "cell_type": "code",
   "execution_count": null,
   "metadata": {},
   "outputs": [],
   "source": [
    "from analysis_utils import get_analysis_df\n",
    "N_timesteps = 128\n",
    "df.Time = df.Time-df.Time.min() # convert to start t=0\n",
    "df[\"Completed orbits\"] = df.Time / orbital_period\n",
    "analysis_df = get_analysis_df(df,df.Time.max() // N_timesteps,orbital_period)\n",
    "analysis_df.head()"
   ]
  },
  {
   "cell_type": "code",
   "execution_count": null,
   "metadata": {},
   "outputs": [],
   "source": [
    "sns.set(font_scale=1.8)\n",
    "sns.set_theme(style=\"whitegrid\")\n",
    "melt_df = analysis_df[[\"Completed orbits\",'# of Sats with commswindow']].melt('Completed orbits', var_name='Status', value_name='# of Satellites')\n",
    "g = sns.catplot(x=\"Completed orbits\", y=\"# of Satellites\", hue='Status', data=melt_df, kind='bar',aspect=2)\n",
    "g.set_xticklabels(rotation=90)"
   ]
  },
  {
   "cell_type": "code",
   "execution_count": null,
   "metadata": {},
   "outputs": [],
   "source": [
    "sns.set(font_scale=1.8)\n",
    "sns.set_theme(style=\"whitegrid\")\n",
    "melt_df = analysis_df[[\"Completed orbits\",'Share Processing']].melt('Completed orbits', var_name='Status', value_name='Ratio of Satellites')\n",
    "g = sns.catplot(x=\"Completed orbits\", y=\"Ratio of Satellites\", hue='Status', data=melt_df, kind='bar',aspect=2)\n",
    "g.set_xticklabels(rotation=90)"
   ]
  },
  {
   "cell_type": "code",
   "execution_count": null,
   "metadata": {},
   "outputs": [],
   "source": [
    "sns.set(rc={'figure.figsize':(12,6)})\n",
    "sns.set(font_scale=1.8)\n",
    "sns.set_theme(style=\"whitegrid\")\n",
    "sns.lineplot(data=df,x=\"Completed orbits\",y=\"temperature\",errorbar=(\"pi\",100),estimator=\"median\")\n",
    "sns.lineplot(data=df,x=\"Completed orbits\",y=\"temperature\",errorbar=(\"pi\",50))\n",
    "sns.lineplot(data=df,x=\"Completed orbits\",y=\"temperature\",errorbar=(\"pi\",25))\n",
    "plt.legend([\"Median\",\"100% PI\",\"_\",\"50% PI\",\"Mean\",\"25% PI\",]);\n",
    "plt.ylabel(\"Temperature [K]\")"
   ]
  },
  {
   "cell_type": "code",
   "execution_count": null,
   "metadata": {},
   "outputs": [],
   "source": [
    "sns.lineplot(data=df,x=\"Completed orbits\",y=\"state_of_charge\",errorbar=(\"pi\",100),estimator=\"median\")\n",
    "sns.lineplot(data=df,x=\"Completed orbits\",y=\"state_of_charge\",errorbar=(\"pi\",50))\n",
    "sns.lineplot(data=df,x=\"Completed orbits\",y=\"state_of_charge\",errorbar=(\"pi\",25))\n",
    "plt.legend([\"Median\",\"100% PI\",\"_\",\"50% PI\",\"Mean\",\"25% PI\",]);\n",
    "plt.ylabel(\"State of Charge\")"
   ]
  }
 ],
 "metadata": {
  "kernelspec": {
   "display_name": "Python 3.10.9 ('licos')",
   "language": "python",
   "name": "python3"
  },
  "language_info": {
   "codemirror_mode": {
    "name": "ipython",
    "version": 3
   },
   "file_extension": ".py",
   "mimetype": "text/x-python",
   "name": "python",
   "nbconvert_exporter": "python",
   "pygments_lexer": "ipython3",
   "version": "3.10.9"
  },
  "orig_nbformat": 4,
  "vscode": {
   "interpreter": {
    "hash": "65ee76868ed8095f3b75d81423d4ebc7f2140f9cf799488945a679baf97fcdf7"
   }
  }
 },
 "nbformat": 4,
 "nbformat_minor": 2
}
