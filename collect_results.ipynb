{
 "cells": [
  {
   "cell_type": "markdown",
   "metadata": {},
   "source": [
    "<!-- Copyright (c) 2021-2022, InterDigital Communications, Inc\n",
    "All rights reserved.\n",
    "\n",
    "Redistribution and use in source and binary forms, with or without \n",
    "modification, are permitted (subject to the limitations in the disclaimer \n",
    "below) provided that the following conditions are met:\n",
    "\n",
    "* Redistributions of source code must retain the above copyright notice, \n",
    "this list of conditions and the following disclaimer.\n",
    "* Redistributions in binary form must reproduce the above copyright notice, \n",
    "this list of conditions and the following disclaimer in the documentation \n",
    "and/or other materials provided with the distribution.\n",
    "* Neither the name of InterDigital Communications, Inc nor the names of its \n",
    "contributors may be used to endorse or promote products derived from this \n",
    "software without specific prior written permission.\n",
    "\n",
    "NO EXPRESS OR IMPLIED LICENSES TO ANY PARTY'S PATENT RIGHTS ARE GRANTED BY \n",
    "THIS LICENSE. THIS SOFTWARE IS PROVIDED BY THE COPYRIGHT HOLDERS AND \n",
    "CONTRIBUTORS \"AS IS\" AND ANY EXPRESS OR IMPLIED WARRANTIES, INCLUDING, BUT \n",
    "NOT LIMITED TO, THE IMPLIED WARRANTIES OF MERCHANTABILITY AND FITNESS FOR A \n",
    "PARTICULAR PURPOSE ARE DISCLAIMED. IN NO EVENT SHALL THE COPYRIGHT HOLDER \n",
    "OR CONTRIBUTORS BE LIABLE FOR ANY DIRECT, INDIRECT, INCIDENTAL, SPECIAL, \n",
    "EXEMPLARY, OR CONSEQUENTIAL DAMAGES (INCLUDING, BUT NOT LIMITED TO, \n",
    "PROCUREMENT OF SUBSTITUTE GOODS OR SERVICES; LOSS OF USE, DATA, OR PROFITS; \n",
    "OR BUSINESS INTERRUPTION) HOWEVER CAUSED AND ON ANY THEORY OF LIABILITY, \n",
    "WHETHER IN CONTRACT, STRICT LIABILITY, OR TORT (INCLUDING NEGLIGENCE OR \n",
    "OTHERWISE) ARISING IN ANY WAY OUT OF THE USE OF THIS SOFTWARE, EVEN IF \n",
    "ADVISED OF THE POSSIBILITY OF SUCH DAMAGE. -->"
   ]
  },
  {
   "cell_type": "markdown",
   "metadata": {},
   "source": [
    "# Collect results"
   ]
  },
  {
   "cell_type": "markdown",
   "metadata": {},
   "source": [
    "## 1 - Imports"
   ]
  },
  {
   "cell_type": "code",
   "execution_count": null,
   "metadata": {},
   "outputs": [],
   "source": [
    "%load_ext autoreload\n",
    "%autoreload 2\n",
    "\n",
    "import os \n",
    "os.environ['CUDA_VISIBLE_DEVICES'] = '9'"
   ]
  },
  {
   "cell_type": "code",
   "execution_count": null,
   "metadata": {},
   "outputs": [],
   "source": [
    "import math\n",
    "import io\n",
    "import torch\n",
    "from torchvision import transforms\n",
    "import numpy as np\n",
    "\n",
    "from PIL import Image\n",
    "from functools import partial\n",
    "import matplotlib.pyplot as plt\n",
    "from pytorch_msssim import ms_ssim\n",
    "from compressai.zoo import bmshj2018_factorized\n",
    "from ipywidgets import interact, widgets\n",
    "import pandas as pd\n",
    "\n",
    "from dotmap import DotMap\n",
    "import numpy as np\n",
    "import toml\n",
    "import sys\n",
    "sys.path.insert(1, \"licos\")\n",
    "from licos.raw_image_folder import RawImageFolder\n",
    "from torchvision.transforms.functional import rotate\n",
    "\n",
    "device = \"cuda\" if torch.cuda.is_available() else \"cpu\"\n",
    "from torchvision import transforms\n",
    "from tqdm import tqdm\n",
    "\n",
    "from eval_utils import (\n",
    "    compute_msssim,\n",
    "    compute_psnr,\n",
    "    pillow_encode,\n",
    ")\n",
    "\n",
    "from skimage.metrics import structural_similarity as ssim\n",
    "from skimage.metrics import peak_signal_noise_ratio as psnr\n",
    "from licos.model_utils import get_model\n",
    "from skimage.util import img_as_ubyte\n",
    "from mpl_toolkits.axes_grid1.inset_locator import inset_axes\n",
    "from matplotlib.patches import Rectangle\n"
   ]
  },
  {
   "cell_type": "markdown",
   "metadata": {},
   "source": [
    "## 2 - Collect and plot results"
   ]
  },
  {
   "cell_type": "markdown",
   "metadata": {},
   "source": [
    "Collect merged."
   ]
  },
  {
   "cell_type": "code",
   "execution_count": null,
   "metadata": {},
   "outputs": [],
   "source": [
    "q1 = pd.read_csv(\"/home/gabrielemeoni/project/LICOS/results_log/results_merged_seed_2_qual_1.csv\")\n",
    "q2 = pd.read_csv(\"/home/gabrielemeoni/project/LICOS/results_log/results_merged_seed_2_qual_2.csv\")\n",
    "q4 = pd.read_csv(\"/home/gabrielemeoni/project/LICOS/results_log/results_merged_seed_2_qual_4.csv\")\n",
    "q8 = pd.read_csv(\"/home/gabrielemeoni/project/LICOS/results_log/results_merged_seed_2_qual_8.csv\")"
   ]
  },
  {
   "cell_type": "code",
   "execution_count": null,
   "metadata": {},
   "outputs": [],
   "source": [
    "bpp_merged = [q1[\"BPP\"], q2[\"BPP\"], q4[\"BPP\"], q8[\"BPP\"]]\n",
    "ssim_merged = [q1[\"SSIM\"], q2[\"SSIM\"], q4[\"SSIM\"], q8[\"SSIM\"]]\n",
    "psnr_merged = [q1[\"PSNR\"], q2[\"PSNR\"], q4[\"PSNR\"], q8[\"PSNR\"]]\n",
    "bpp_merged = np.array([float(x) for x in bpp_merged])\n",
    "ssim_merged = np.array([float(x) for x in ssim_merged])\n",
    "psnr_merged = np.array([float(x) for x in psnr_merged])"
   ]
  },
  {
   "cell_type": "markdown",
   "metadata": {},
   "source": [
    "Collect split."
   ]
  },
  {
   "cell_type": "code",
   "execution_count": null,
   "metadata": {},
   "outputs": [],
   "source": [
    "q1 = pd.read_csv(\"/home/gabrielemeoni/project/LICOS/results_log/results_split_seed_2_qual_1.csv\")\n",
    "q2 = pd.read_csv(\"/home/gabrielemeoni/project/LICOS/results_log/results_split_seed_2_qual_2.csv\")\n",
    "q4 = pd.read_csv(\"/home/gabrielemeoni/project/LICOS/results_log/results_split_seed_2_qual_4.csv\")\n",
    "q8 = pd.read_csv(\"/home/gabrielemeoni/project/LICOS/results_log/results_split_seed_2_qual_8.csv\")\n",
    "bpp_split = [q1[\"BPP\"], q2[\"BPP\"], q4[\"BPP\"], q8[\"BPP\"]]\n",
    "ssim_split = [q1[\"SSIM\"], q2[\"SSIM\"], q4[\"SSIM\"], q8[\"SSIM\"]]\n",
    "psnr_split = [q1[\"PSNR\"], q2[\"PSNR\"], q4[\"PSNR\"], q8[\"PSNR\"]]\n",
    "bpp_split = np.array([float(x) for x in bpp_split])\n",
    "ssim_split = np.array([float(x) for x in ssim_split])\n",
    "psnr_split = np.array([float(x) for x in psnr_split])"
   ]
  },
  {
   "cell_type": "markdown",
   "metadata": {},
   "source": [
    "Collect JPEG."
   ]
  },
  {
   "cell_type": "code",
   "execution_count": null,
   "metadata": {},
   "outputs": [],
   "source": [
    "jpeg_df = pd.read_csv(\"/home/gabrielemeoni/project/LICOS/results_log/results_jpeg_seed_2.csv\")\n",
    "bpp_jpeg = np.array(jpeg_df[\"BPP\"])\n",
    "psnr_jpeg = np.array(jpeg_df[\"PSNR\"])\n",
    "ssim_jpeg = np.array(jpeg_df[\"SSIM\"])\n",
    "bpp_jpeg = np.array([float(x) for x in bpp_jpeg])\n",
    "ssim_jpeg = np.array([float(x) for x in ssim_jpeg])\n",
    "psnr_jpeg = np.array([float(x) for x in psnr_jpeg])\n"
   ]
  },
  {
   "cell_type": "markdown",
   "metadata": {},
   "source": [
    "Plot results."
   ]
  },
  {
   "cell_type": "code",
   "execution_count": null,
   "metadata": {},
   "outputs": [],
   "source": [
    "##### plt.rcParams.update({'font.size': 10})\n",
    "plt.close()\n",
    "fig, ax = plt.subplots(1,2, figsize=(6, 3))\n",
    "ax[0].scatter(sorted(bpp_jpeg), ssim_jpeg[np.argsort(bpp_jpeg)], color=\"b\", marker=\"x\")\n",
    "ax[0].scatter(sorted(bpp_merged), ssim_merged[np.argsort(bpp_merged)], color=\"r\", marker=\"x\")\n",
    "ax[0].scatter(sorted(bpp_split), ssim_split[np.argsort(bpp_split)], color=\"g\", marker=\"x\")\n",
    "ax[0].legend([\"JPEG\", \"MERGED\", \"SPLIT\"])\n",
    "ax[0].set_xlabel(\"BPP\")\n",
    "ax[0].set_ylabel(\"SSIM\")\n",
    "ax[1].scatter(sorted(bpp_jpeg), psnr_jpeg[np.argsort(bpp_jpeg)], color=\"b\", marker=\"x\")\n",
    "ax[1].scatter(sorted(bpp_merged), psnr_merged[np.argsort(bpp_merged)], color=\"r\", marker=\"x\")\n",
    "ax[1].scatter(sorted(bpp_split), psnr_split[np.argsort(bpp_split)], color=\"g\", marker=\"x\")\n",
    "ax[1].legend([\"JPEG\", \"MERGED\", \"SPLIT\"])\n",
    "ax[1].set_xlabel(\"BPP\")\n",
    "ax[1].set_ylabel(\"PSNR\")\n",
    "ax[0].set_xlim(0, 0.125)\n",
    "ax[0].set_ylim(0.5, 1.0)\n",
    "ax[1].set_xlim(0, 0.125)\n",
    "ax[1].set_ylim(27, 45)\n",
    "\n",
    "#plt.subplots_adjust(wspace=0.4, \n",
    "                    #hspace=3)\n",
    "plt.tight_layout() \n",
    "plt.savefig(\"results.pdf\")"
   ]
  },
  {
   "cell_type": "markdown",
   "metadata": {},
   "source": [
    "## 3 - Create compression and decompression results"
   ]
  },
  {
   "cell_type": "markdown",
   "metadata": {},
   "source": [
    "Adjust path t models checkpoints"
   ]
  },
  {
   "cell_type": "code",
   "execution_count": null,
   "metadata": {},
   "outputs": [],
   "source": [
    "# Path to models\n",
    "paths=['/home/gabrielemeoni/project/LICOS/licos/results/bmshj2018-factorized_qual=1_raw=split_seed=2_t=2024_03_07_08_44_51.pth.tar', \"/home/gabrielemeoni/project/LICOS/licos/results/bmshj2018-factorized_qual=4_raw=split_seed=2_t=2024_03_08_06_39_18.pth.tar\"]"
   ]
  },
  {
   "cell_type": "markdown",
   "metadata": {},
   "source": [
    "Running split and decompressed"
   ]
  },
  {
   "cell_type": "code",
   "execution_count": null,
   "metadata": {},
   "outputs": [],
   "source": [
    "{\"JPG\": 0, \"QUAL_2\": 0, \"QUAL_8\": 0}"
   ]
  },
  {
   "cell_type": "code",
   "execution_count": null,
   "metadata": {},
   "outputs": [],
   "source": [
    "# Tranform useful for JPEG\n",
    "transform = transforms.Compose([transforms.PILToTensor()])\n",
    "# Placeholder for images\n",
    "orig_img = []\n",
    "jpg_img = []\n",
    "qual_2_img = []\n",
    "qual_8_img = []\n",
    "# Lit of images to collect\n",
    "idx_list = [44, 93, 555, 1000]\n",
    "\n",
    "# Compression ratio dicitionary\n",
    "compression_ratios = dict(zip([str(n) for n in idx_list], [{\"JPG\": 0, \"QUAL_2\": 0, \"QUAL_8\": 0} for n in idx_list]))\n",
    "\n",
    "# Run\n",
    "\n",
    "for n in tqdm([44, 93, 555, 1000], \"parse idx..\"):\n",
    "    for path in paths:\n",
    "\n",
    "        qual = int(path.split(\"_qual=\")[1].split(\"_raw\")[0])\n",
    "        seed = int(path.split(\"_seed=\")[1].split(\"_t\")[0])\n",
    "        raw_model = str(path.split(\"_raw=\")[1].split(\"_seed\")[0])\n",
    "        cfg_path = \"/home/gabrielemeoni/project/LICOS/cfg/raw_\" + raw_model + \"_seed_\" + str(seed) + \"_q_\" + str(qual) +\".toml\"\n",
    "        cfg = DotMap(toml.load(cfg_path), _dynamic=False)\n",
    "        test_data_split = RawImageFolder(\n",
    "                    cfg.dataset,\n",
    "                    cfg.seed,\n",
    "                    cfg.raw_test_over_tot,\n",
    "                    cfg.raw_validation_over_train,\n",
    "                    \"split\",\n",
    "                    cfg.raw_target_resolution_merged_m,\n",
    "                    split=\"test\",\n",
    "                    geographical_split_tolerance=cfg.raw_train_test_tolerance,\n",
    "                )\n",
    "        net_split = get_model(\"bmshj2018-factorized\", False, 1, qual)\n",
    "        checkpoint = torch.load(path, map_location=device)\n",
    "        net_split.load_state_dict(checkpoint[\"state_dict\"])\n",
    "        net_split.update()\n",
    "        img = test_data_split[n]\n",
    "        x = img.to(device)\n",
    "        net_split=net_split.cuda()\n",
    "        with torch.no_grad():\n",
    "            out_net = net_split.forward(x.unsqueeze(0))\n",
    "            compressed_img = net_split.compress(x.unsqueeze(0))\n",
    "            compressed_size_in_bytes = np.frombuffer(\n",
    "                np.array(compressed_img[\"strings\"]), dtype=np.uint8\n",
    "                ).size\n",
    "            img_out_b = out_net[\"x_hat\"].clamp_(0, 1)\n",
    "        img_size_in_bytes = img.shape[0] * img.shape[1] * img.shape[2]\n",
    "        \n",
    "        bpp = 8 * compressed_size_in_bytes/img_size_in_bytes\n",
    "\n",
    "        if qual == 1:\n",
    "            qual_2_img.append(img_as_ubyte(img_out_b.squeeze(0).squeeze(0).detach().cpu().numpy()))\n",
    "            compression_ratios[str(n)][\"QUAL_2\"] = bpp/8\n",
    "        else:\n",
    "            qual_8_img.append(img_as_ubyte(img_out_b.squeeze(0).squeeze(0).detach().cpu().numpy()))\n",
    "            compression_ratios[str(n)][\"QUAL_8\"] = bpp/8\n",
    "    # JPEG\n",
    "\n",
    "    PIL_img = Image.fromarray(img_as_ubyte(img.squeeze(0)), \"L\")\n",
    "    img_jpeg_0, bpp_jpeg_img = pillow_encode(PIL_img, fmt=\"jpeg\", quality=8)\n",
    "    img_jpeg_0=transform(img_jpeg_0)\n",
    "    img_jpeg = img_jpeg_0\n",
    "    compression_ratios[str(n)][\"JPEG\"] = bpp_jpeg_img / 8\n",
    "    jpg_img.append(img_jpeg.squeeze(0).detach().cpu().numpy())\n",
    "    orig_img.append(img_as_ubyte(img.squeeze(0).detach().cpu().numpy()))\n",
    "    \n",
    "\n",
    "# Create dataframe collecting results\n",
    "df = pd.DataFrame(columns=[\"ImageIDX\",\"SSIM_JPG\",\"PSNR_JPG\",\"SSIM_QUAL_2\",\"PSNR_QUAL_2\",\"SSIM_QUAL_8\",\"PSNR_QUAL_8\"])\n",
    "df.set_index(\"ImageIDX\")\n",
    "for i in range(len(idx_list)):\n",
    "    data_dict = {\n",
    "        \"ImageIDX\": idx_list[i],\n",
    "        \"SSIM_JPG\": ssim(orig_img[i],jpg_img[i],data_range=255,multichannel=True),\n",
    "        \"PSNR_JPG\": psnr(orig_img[i],jpg_img[i],data_range=255),\n",
    "        \"SSIM_QUAL_2\": ssim(orig_img[i],qual_2_img[i],data_range=255,multichannel=True),\n",
    "        \"PSNR_QUAL_2\": psnr(orig_img[i],qual_2_img[i],data_range=255),\n",
    "        \"SSIM_QUAL_8\": ssim(orig_img[i],qual_8_img[i],data_range=255,multichannel=True),\n",
    "        \"PSNR_QUAL_8\": psnr(orig_img[i],qual_8_img[i],data_range=255),\n",
    "        \"CR_JPG\": compression_ratios[str(idx_list[i])][\"JPG\"],\n",
    "        \"CR_QUAL_2\": compression_ratios[str(idx_list[i])][\"QUAL_2\"],\n",
    "        \"CR_QUAL_8\": compression_ratios[str(idx_list[i])][\"QUAL_8\"]\n",
    "    }\n",
    "    new_df = pd.DataFrame(data_dict,index=[0])\n",
    "    new_df.set_index(\"ImageIDX\")\n",
    "    df = pd.concat([df,new_df])"
   ]
  },
  {
   "cell_type": "markdown",
   "metadata": {},
   "source": [
    "Plot results."
   ]
  },
  {
   "cell_type": "code",
   "execution_count": null,
   "metadata": {},
   "outputs": [],
   "source": [
    "\n",
    "def make_zoom_in(ax, axins, orig_img, region):\n",
    "    ax.imshow(orig_img, cmap='gray')\n",
    "    ax.axis('off')\n",
    "\n",
    "    # Specify the region to zoom in on\n",
    "    x1, x2, y1, y2 = region\n",
    "    zoomed_img = orig_img[y1:y2, x1:x2]\n",
    "\n",
    "    # Flip the zoomed image in the up-down direction\n",
    "    flipped_zoomed_img = np.flipud(zoomed_img)\n",
    "\n",
    "    axins.imshow(flipped_zoomed_img, cmap='gray')\n",
    "\n",
    "    # Set the limits of the inset axes to the full extent of the zoomed image\n",
    "    axins.set_xlim(0, zoomed_img.shape[1])  # apply the x-limits\n",
    "    axins.set_ylim(0, zoomed_img.shape[0])  # apply the y-limits\n",
    "\n",
    "    # Draw a rectangle on the original axes to indicate the zoomed area\n",
    "    rect = Rectangle((x1, y1), x2-x1, y2-y1, fill=False, color='red', linestyle='dashed')\n",
    "    ax.add_patch(rect)\n",
    "\n",
    "    axins.axis('off')\n",
    "    axins.indicate_inset_zoom(axins, edgecolor=\"red\", linestyle='dashed', lw=4)\n",
    "\n",
    "    return ax, axins\n",
    "\n",
    "size = 150\n",
    "x0 = 10\n",
    "y0 = 10\n",
    "x1 = 1000\n",
    "y1 = 400\n",
    "x2 = 400\n",
    "y2 = 475\n",
    "x3 = 1100\n",
    "y3 = 1000\n",
    "zoom_in_regions = [\n",
    "    (x0,x0+size,y0,y0+size),\n",
    "    (x1,x1+size,y1,y1+size),\n",
    "    (x2,x2+size,y2,y2+size),\n",
    "    (x3,x3+size,y3,y3+size)\n",
    "]                    \n",
    "\n",
    "\n",
    "aspect_ratio = 1296/1152\n",
    "fig, axs = plt.subplots(len(idx_list), 4, figsize=(20,20/aspect_ratio), sharex=True, sharey=True)\n",
    "# Put column titles\n",
    "axs[0,0].set_title(\"Original\")\n",
    "axs[0,1].set_title(\"JPEG (q=8)\")\n",
    "axs[0,2].set_title(\"Split (q=1)\")\n",
    "axs[0,3].set_title(\"Split (q=4)\")\n",
    "for i in range(len(idx_list)):\n",
    "    axs[i,0],axs[i,0] = make_zoom_in(axs[i,0],inset_axes(axs[i,0], width=\"40%\", height=\"40%\", loc=3),orig_img[i],zoom_in_regions[i])\n",
    "    axs[i,1].annotate(\"SSIM: \"+str(round(df.iloc[i][\"SSIM_JPG\"],2))+\"\\nPSNR: \"+str(round(df.iloc[i][\"PSNR_JPG\"],2))+\"\\nCR: \"+str(round(df.iloc[i][\"CR_JPG\"],2)), xy=(0,0.), xycoords='axes fraction',xytext=(0.65,0.8), fontsize=16, color='red')\n",
    "    axs[i,1],axs[i,1] = make_zoom_in(axs[i,1],inset_axes(axs[i,1], width=\"40%\", height=\"40%\", loc=3),jpg_img[i],zoom_in_regions[i])\n",
    "    axs[i,2].annotate(\"SSIM: \"+str(round(df.iloc[i][\"SSIM_QUAL_2\"],2))+\"\\nPSNR: \"+str(round(df.iloc[i][\"PSNR_QUAL_2\"],2))+\"\\nCR: \"+str(round(df.iloc[i][\"CR_QUAL_2\"],2)), xy=(0,0.), xycoords='axes fraction',xytext=(0.65,0.8), fontsize=16, color='red')\n",
    "    axs[i,2],axs[i,2] = make_zoom_in(axs[i,2],inset_axes(axs[i,2], width=\"40%\", height=\"40%\", loc=3),qual_2_img[i],zoom_in_regions[i])\n",
    "    axs[i,3].annotate(\"SSIM: \"+str(round(df.iloc[i][\"SSIM_QUAL_8\"],2))+\"\\nPSNR: \"+str(round(df.iloc[i][\"PSNR_QUAL_8\"],2))+\"\\nCR: \"+str(round(df.iloc[i][\"CR_QUAL_8\"],2)), xy=(0,0.), xycoords='axes fraction',xytext=(0.65,0.8), fontsize=16, color='red')\n",
    "    axs[i,3],axs[i,3] = make_zoom_in(axs[i,3],inset_axes(axs[i,3], width=\"40%\", height=\"40%\", loc=3),qual_8_img[i],zoom_in_regions[i])\n",
    "\n",
    "plt.rcParams.update({'font.size': 32})\n",
    "plt.subplots_adjust(wspace=0, hspace=0)\n",
    "plt.savefig(\"comparison.pdf\")"
   ]
  },
  {
   "cell_type": "code",
   "execution_count": null,
   "metadata": {},
   "outputs": [],
   "source": []
  }
 ],
 "metadata": {
  "kernelspec": {
   "display_name": "Python 3 (ipykernel)",
   "language": "python",
   "name": "python3"
  },
  "language_info": {
   "codemirror_mode": {
    "name": "ipython",
    "version": 3
   },
   "file_extension": ".py",
   "mimetype": "text/x-python",
   "name": "python",
   "nbconvert_exporter": "python",
   "pygments_lexer": "ipython3",
   "version": "3.10.11"
  },
  "vscode": {
   "interpreter": {
    "hash": "a4e3e84f3862cd2e9db1cb7215b0fdc6f141d3901382bdedbd8c569e0da98eef"
   }
  }
 },
 "nbformat": 4,
 "nbformat_minor": 4
}
