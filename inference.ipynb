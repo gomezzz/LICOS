{
 "cells": [
  {
   "cell_type": "markdown",
   "metadata": {},
   "source": [
    "<!-- Copyright (c) 2021-2022, InterDigital Communications, Inc\n",
    "All rights reserved.\n",
    "\n",
    "Redistribution and use in source and binary forms, with or without \n",
    "modification, are permitted (subject to the limitations in the disclaimer \n",
    "below) provided that the following conditions are met:\n",
    "\n",
    "* Redistributions of source code must retain the above copyright notice, \n",
    "this list of conditions and the following disclaimer.\n",
    "* Redistributions in binary form must reproduce the above copyright notice, \n",
    "this list of conditions and the following disclaimer in the documentation \n",
    "and/or other materials provided with the distribution.\n",
    "* Neither the name of InterDigital Communications, Inc nor the names of its \n",
    "contributors may be used to endorse or promote products derived from this \n",
    "software without specific prior written permission.\n",
    "\n",
    "NO EXPRESS OR IMPLIED LICENSES TO ANY PARTY'S PATENT RIGHTS ARE GRANTED BY \n",
    "THIS LICENSE. THIS SOFTWARE IS PROVIDED BY THE COPYRIGHT HOLDERS AND \n",
    "CONTRIBUTORS \"AS IS\" AND ANY EXPRESS OR IMPLIED WARRANTIES, INCLUDING, BUT \n",
    "NOT LIMITED TO, THE IMPLIED WARRANTIES OF MERCHANTABILITY AND FITNESS FOR A \n",
    "PARTICULAR PURPOSE ARE DISCLAIMED. IN NO EVENT SHALL THE COPYRIGHT HOLDER \n",
    "OR CONTRIBUTORS BE LIABLE FOR ANY DIRECT, INDIRECT, INCIDENTAL, SPECIAL, \n",
    "EXEMPLARY, OR CONSEQUENTIAL DAMAGES (INCLUDING, BUT NOT LIMITED TO, \n",
    "PROCUREMENT OF SUBSTITUTE GOODS OR SERVICES; LOSS OF USE, DATA, OR PROFITS; \n",
    "OR BUSINESS INTERRUPTION) HOWEVER CAUSED AND ON ANY THEORY OF LIABILITY, \n",
    "WHETHER IN CONTRACT, STRICT LIABILITY, OR TORT (INCLUDING NEGLIGENCE OR \n",
    "OTHERWISE) ARISING IN ANY WAY OUT OF THE USE OF THIS SOFTWARE, EVEN IF \n",
    "ADVISED OF THE POSSIBILITY OF SUCH DAMAGE. -->"
   ]
  },
  {
   "cell_type": "markdown",
   "metadata": {},
   "source": [
    "# CompressAI inference demo"
   ]
  },
  {
   "cell_type": "code",
   "execution_count": null,
   "metadata": {},
   "outputs": [],
   "source": [
    "import math\n",
    "import io\n",
    "import torch\n",
    "from torchvision import transforms\n",
    "import numpy as np\n",
    "\n",
    "from PIL import Image\n",
    "\n",
    "import matplotlib.pyplot as plt"
   ]
  },
  {
   "cell_type": "code",
   "execution_count": null,
   "metadata": {},
   "outputs": [],
   "source": [
    "from pytorch_msssim import ms_ssim"
   ]
  },
  {
   "cell_type": "code",
   "execution_count": null,
   "metadata": {},
   "outputs": [],
   "source": [
    "from compressai.zoo import bmshj2018_factorized"
   ]
  },
  {
   "cell_type": "code",
   "execution_count": null,
   "metadata": {},
   "outputs": [],
   "source": [
    "from ipywidgets import interact, widgets"
   ]
  },
  {
   "cell_type": "markdown",
   "metadata": {},
   "source": [
    "## Global settings"
   ]
  },
  {
   "cell_type": "code",
   "execution_count": null,
   "metadata": {},
   "outputs": [],
   "source": [
    "device = 'cuda' if torch.cuda.is_available() else 'cpu'"
   ]
  },
  {
   "cell_type": "markdown",
   "metadata": {},
   "source": [
    "## Load a pretrained model"
   ]
  },
  {
   "cell_type": "code",
   "execution_count": null,
   "metadata": {},
   "outputs": [],
   "source": [
    "net = bmshj2018_factorized(quality=1, pretrained=True).eval().to(device)"
   ]
  },
  {
   "cell_type": "code",
   "execution_count": null,
   "metadata": {},
   "outputs": [],
   "source": [
    "print(f'Parameters: {sum(p.numel() for p in net.parameters())}')"
   ]
  },
  {
   "cell_type": "code",
   "execution_count": null,
   "metadata": {},
   "outputs": [],
   "source": [
    "checkpoint = torch.load(\"checkpoint_best_loss.pth.tar\", map_location=device)\n",
    "net.load_state_dict(checkpoint[\"state_dict\"])"
   ]
  },
  {
   "cell_type": "markdown",
   "metadata": {},
   "source": [
    "## 1. Inference"
   ]
  },
  {
   "cell_type": "markdown",
   "metadata": {},
   "source": [
    "### Load image and convert to 4D float tensor"
   ]
  },
  {
   "cell_type": "markdown",
   "metadata": {},
   "source": [
    "First, we need to load an RGB image and convert it to a 4D floating point tensor, as the network expectes an input tensor of size: `(batch_size, 3, height, width)`."
   ]
  },
  {
   "cell_type": "code",
   "execution_count": null,
   "metadata": {},
   "outputs": [],
   "source": [
    "img = Image.open('data/aid/test/airport_10.jpg').convert('RGB')\n",
    "x = transforms.ToTensor()(img).unsqueeze(0).to(device)"
   ]
  },
  {
   "cell_type": "code",
   "execution_count": null,
   "metadata": {},
   "outputs": [],
   "source": [
    "%matplotlib inline\n",
    "plt.figure(figsize=(12, 9))\n",
    "plt.axis('off')\n",
    "plt.imshow(img)\n",
    "plt.show()"
   ]
  },
  {
   "cell_type": "markdown",
   "metadata": {},
   "source": [
    "### Run the network"
   ]
  },
  {
   "cell_type": "code",
   "execution_count": null,
   "metadata": {},
   "outputs": [],
   "source": [
    "with torch.no_grad():\n",
    "    out_net = net.forward(x)\n",
    "out_net['x_hat'].clamp_(0, 1)\n",
    "print(out_net.keys())"
   ]
  },
  {
   "cell_type": "markdown",
   "metadata": {},
   "source": [
    "We obtain a dictionary with the decoded/reconstructed image tensor `x_hat` and the latent(s) likelihoods."
   ]
  },
  {
   "cell_type": "markdown",
   "metadata": {},
   "source": [
    "### Visualize result"
   ]
  },
  {
   "cell_type": "markdown",
   "metadata": {},
   "source": [
    "Convert the Tensor back to a 2D Pillow image:"
   ]
  },
  {
   "cell_type": "code",
   "execution_count": null,
   "metadata": {},
   "outputs": [],
   "source": [
    "out_net['x_hat'] = out_net['x_hat'][...,:600,:600]"
   ]
  },
  {
   "cell_type": "code",
   "execution_count": null,
   "metadata": {},
   "outputs": [],
   "source": [
    "rec_net = transforms.ToPILImage()(out_net['x_hat'].squeeze().cpu())"
   ]
  },
  {
   "cell_type": "code",
   "execution_count": null,
   "metadata": {},
   "outputs": [],
   "source": [
    "diff = torch.mean((out_net['x_hat'] - x).abs(), axis=1).squeeze().cpu()"
   ]
  },
  {
   "cell_type": "code",
   "execution_count": null,
   "metadata": {},
   "outputs": [],
   "source": [
    "%matplotlib inline\n",
    "fix, axes = plt.subplots(1, 3, figsize=(16, 12))\n",
    "for ax in axes:\n",
    "    ax.axis('off')\n",
    "    \n",
    "axes[0].imshow(img)\n",
    "axes[0].title.set_text('Original')\n",
    "\n",
    "axes[1].imshow(rec_net)\n",
    "axes[1].title.set_text('Reconstructed')\n",
    "\n",
    "axes[2].imshow(diff, cmap='viridis')\n",
    "axes[2].title.set_text('Difference')\n",
    "\n",
    "plt.show()"
   ]
  },
  {
   "cell_type": "markdown",
   "metadata": {},
   "source": [
    "### Compute metrics"
   ]
  },
  {
   "cell_type": "markdown",
   "metadata": {},
   "source": [
    "Now, let's compute some common metrics..."
   ]
  },
  {
   "cell_type": "code",
   "execution_count": null,
   "metadata": {},
   "outputs": [],
   "source": [
    "def compute_psnr(a, b):\n",
    "    mse = torch.mean((a - b)**2).item()\n",
    "    return -10 * math.log10(mse)\n",
    "\n",
    "def compute_msssim(a, b):\n",
    "    return ms_ssim(a, b, data_range=1.).item()\n",
    "\n",
    "def compute_bpp(out_net):\n",
    "    size = out_net['x_hat'].size()\n",
    "    num_pixels = size[0] * size[2] * size[3]\n",
    "    return sum(torch.log(likelihoods).sum() / (-math.log(2) * num_pixels)\n",
    "              for likelihoods in out_net['likelihoods'].values()).item()"
   ]
  },
  {
   "cell_type": "code",
   "execution_count": null,
   "metadata": {},
   "outputs": [],
   "source": [
    "print(f'PSNR: {compute_psnr(x, out_net[\"x_hat\"]):.2f}dB')\n",
    "print(f'MS-SSIM: {compute_msssim(x, out_net[\"x_hat\"]):.4f}')\n",
    "print(f'Bit-rate: {compute_bpp(out_net):.3f} bpp')"
   ]
  },
  {
   "cell_type": "markdown",
   "metadata": {},
   "source": [
    "## 2. Comparison to classical codecs"
   ]
  },
  {
   "cell_type": "markdown",
   "metadata": {},
   "source": [
    "Let's perform some comparison against JPEG and WebP as they are included in the Pillow library."
   ]
  },
  {
   "cell_type": "code",
   "execution_count": null,
   "metadata": {},
   "outputs": [],
   "source": [
    "def pillow_encode(img, fmt='jpeg', quality=10):\n",
    "    tmp = io.BytesIO()\n",
    "    img.save(tmp, format=fmt, quality=quality)\n",
    "    tmp.seek(0)\n",
    "    filesize = tmp.getbuffer().nbytes\n",
    "    bpp = filesize * float(8) / (img.size[0] * img.size[1])\n",
    "    rec = Image.open(tmp)\n",
    "    return rec, bpp"
   ]
  },
  {
   "cell_type": "code",
   "execution_count": null,
   "metadata": {},
   "outputs": [],
   "source": [
    "from functools import partial"
   ]
  },
  {
   "cell_type": "code",
   "execution_count": null,
   "metadata": {},
   "outputs": [],
   "source": [
    "def find_closest_bpp(target, img, fmt='jpeg'):\n",
    "    lower = 0\n",
    "    upper = 100\n",
    "    prev_mid = upper\n",
    "    for i in range(10):\n",
    "        mid = (upper - lower) / 2 + lower\n",
    "        if int(mid) == int(prev_mid):\n",
    "            break\n",
    "        rec, bpp = pillow_encode(img, fmt=fmt, quality=int(mid))\n",
    "        if bpp > target:\n",
    "            upper = mid - 1\n",
    "        else:\n",
    "            lower = mid\n",
    "    return rec, bpp\n",
    "\n",
    "def find_closest_psnr(target, img, fmt='jpeg'):\n",
    "    lower = 0\n",
    "    upper = 100\n",
    "    prev_mid = upper\n",
    "    \n",
    "    def _psnr(a, b):\n",
    "        a = np.asarray(a).astype(np.float32)\n",
    "        b = np.asarray(b).astype(np.float32)\n",
    "        mse = np.mean(np.square(a - b))\n",
    "        return 20*math.log10(255.) -10. * math.log10(mse)\n",
    "    \n",
    "    for i in range(10):\n",
    "        mid = (upper - lower) / 2 + lower\n",
    "        if int(mid) == int(prev_mid):\n",
    "            break\n",
    "        prev_mid = mid\n",
    "        rec, bpp = pillow_encode(img, fmt=fmt, quality=int(mid))\n",
    "        psnr_val = _psnr(rec, img)\n",
    "        if psnr_val > target:\n",
    "            upper = mid - 1\n",
    "        else:\n",
    "            lower = mid\n",
    "    return rec, bpp, psnr_val\n",
    "\n",
    "def find_closest_msssim(target, img, fmt='jpeg'):\n",
    "    lower = 0\n",
    "    upper = 100\n",
    "    prev_mid = upper\n",
    "    \n",
    "    def _mssim(a, b):\n",
    "        a = torch.from_numpy(np.asarray(a).astype(np.float32)).permute(2, 0, 1).unsqueeze(0)\n",
    "        b = torch.from_numpy(np.asarray(b).astype(np.float32)).permute(2, 0, 1).unsqueeze(0)\n",
    "        return ms_ssim(a, b, data_range=255.).item()\n",
    "\n",
    "    for i in range(10):\n",
    "        mid = (upper - lower) / 2 + lower\n",
    "        if int(mid) == int(prev_mid):\n",
    "            break\n",
    "        prev_mid = mid\n",
    "        rec, bpp = pillow_encode(img, fmt=fmt, quality=int(mid))\n",
    "        msssim_val = _mssim(rec, img)\n",
    "        if msssim_val > target:\n",
    "            upper = mid - 1\n",
    "        else:\n",
    "            lower = mid\n",
    "    return rec, bpp, msssim_val"
   ]
  },
  {
   "cell_type": "markdown",
   "metadata": {},
   "source": [
    "### 2.1 Quality comparison at similar bit-rate"
   ]
  },
  {
   "cell_type": "code",
   "execution_count": null,
   "metadata": {},
   "outputs": [],
   "source": [
    "target_bpp = compute_bpp(out_net)\n",
    "rec_jpeg, bpp_jpeg = find_closest_bpp(target_bpp, img)\n",
    "rec_webp, bpp_webp = find_closest_bpp(target_bpp, img, fmt='webp')"
   ]
  },
  {
   "cell_type": "code",
   "execution_count": null,
   "metadata": {},
   "outputs": [],
   "source": [
    "fig, axes = plt.subplots(2, 2, figsize=(18, 15))\n",
    "for ax in axes.ravel():\n",
    "    ax.axis('off')\n",
    "\n",
    "fig.title = 'yolo'\n",
    "axes[0][0].imshow(img)\n",
    "axes[0][0].title.set_text('Original')\n",
    "axes[0][1].imshow(rec_net)\n",
    "axes[0][1].title.set_text(f'Net {target_bpp:.3f} bpp')\n",
    "axes[1][0].imshow(rec_jpeg)\n",
    "axes[1][0].title.set_text(f'JPEG {bpp_jpeg:.3f} bpp')\n",
    "axes[1][1].imshow(rec_webp)\n",
    "axes[1][1].title.set_text(f'WebP {bpp_webp:.3f} bpp')\n",
    "\n",
    "plt.show()"
   ]
  },
  {
   "cell_type": "markdown",
   "metadata": {},
   "source": [
    "### 2.2 Bit-rate comparison at similar PSNR"
   ]
  },
  {
   "cell_type": "code",
   "execution_count": null,
   "metadata": {},
   "outputs": [],
   "source": [
    "target_psnr = compute_psnr(x, out_net[\"x_hat\"])\n",
    "rec_jpeg, bpp_jpeg, psnr_jpeg = find_closest_psnr(target_psnr, img)\n",
    "rec_webp, bpp_webp, psnr_webp = find_closest_psnr(target_psnr, img, fmt='webp')"
   ]
  },
  {
   "cell_type": "code",
   "execution_count": null,
   "metadata": {},
   "outputs": [],
   "source": [
    "fig, axes = plt.subplots(2, 2, figsize=(18, 15))\n",
    "for ax in axes.ravel():\n",
    "    ax.axis('off')\n",
    "    \n",
    "axes[0][0].imshow(img)\n",
    "axes[0][0].title.set_text('Original')\n",
    "axes[0][1].imshow(rec_net)\n",
    "axes[0][1].title.set_text(f'Net {target_bpp:.3f} bpp | {target_psnr:.2f}dB')\n",
    "axes[1][0].imshow(rec_jpeg)\n",
    "axes[1][0].title.set_text(f'JPEG {bpp_jpeg:.3f} bpp | {psnr_jpeg:.2f}dB')\n",
    "axes[1][1].imshow(rec_webp)\n",
    "axes[1][1].title.set_text(f'WebP {bpp_webp:.3f} bpp | {psnr_webp:.2f}dB')\n",
    "\n",
    "plt.show()"
   ]
  },
  {
   "cell_type": "markdown",
   "metadata": {},
   "source": [
    "### 2.3) Bit-rate comparison at similar MS-SSIM"
   ]
  },
  {
   "cell_type": "code",
   "execution_count": null,
   "metadata": {},
   "outputs": [],
   "source": [
    "target_msssim = compute_msssim(x, out_net[\"x_hat\"])\n",
    "rec_jpeg, bpp_jpeg, msssim_jpeg = find_closest_msssim(target_msssim, img)\n",
    "rec_webp, bpp_webp, msssim_webp = find_closest_msssim(target_msssim, img, fmt='webp')"
   ]
  },
  {
   "cell_type": "code",
   "execution_count": null,
   "metadata": {},
   "outputs": [],
   "source": [
    "fig, axes = plt.subplots(2, 2, figsize=(18, 15))\n",
    "for ax in axes.ravel():\n",
    "    ax.axis('off')\n",
    "    \n",
    "axes[0][0].imshow(img)\n",
    "axes[0][0].title.set_text('Original')\n",
    "axes[0][1].imshow(rec_net)\n",
    "axes[0][1].title.set_text(f'Net {target_bpp:.3f} bpp | MS-SSIM: {target_msssim:.5f}')\n",
    "axes[1][0].imshow(rec_jpeg)\n",
    "axes[1][0].title.set_text(f'JPEG {bpp_jpeg:.3f} bpp | MS-SSIM: {msssim_jpeg:.5f}')\n",
    "axes[1][1].imshow(rec_webp)\n",
    "axes[1][1].title.set_text(f'WebP {bpp_webp:.3f} bpp | MS-SSIM: {msssim_webp:.5f}')\n",
    "\n",
    "plt.show()"
   ]
  },
  {
   "cell_type": "markdown",
   "metadata": {},
   "source": [
    "## 3. Latent visualization"
   ]
  },
  {
   "cell_type": "markdown",
   "metadata": {},
   "source": [
    "### Per-latent bit-rate results"
   ]
  },
  {
   "cell_type": "code",
   "execution_count": null,
   "metadata": {},
   "outputs": [],
   "source": [
    "def detailed_bpp(out):\n",
    "    size = out['x_hat'].size()\n",
    "    num_pixels = size[0] * size[2] * size[3]\n",
    "    for name, values in out_net['likelihoods'].items():\n",
    "        bpp_val = torch.log(values).sum() / (-math.log(2) * num_pixels)\n",
    "        print(f'- \"{name}\" latent bit-rate: {bpp_val:.3f} bpp')\n",
    "               \n",
    "detailed_bpp(out_net)"
   ]
  },
  {
   "cell_type": "code",
   "execution_count": null,
   "metadata": {},
   "outputs": [],
   "source": [
    "with torch.no_grad():\n",
    "    y = net.g_a(x)\n",
    "    y_hat, y_likelihoods = net.entropy_bottleneck(y)\n",
    "    print(y.size(), y_likelihoods.size())"
   ]
  },
  {
   "cell_type": "markdown",
   "metadata": {},
   "source": [
    "## Per channel estimated bit-rate"
   ]
  },
  {
   "cell_type": "code",
   "execution_count": null,
   "metadata": {},
   "outputs": [],
   "source": [
    "%matplotlib inline\n",
    "num_pixels = x.size(2) * x.size(3)\n",
    "\n",
    "channel_bpps = [torch.log(y_likelihoods[0, c]).sum().item() / (-math.log(2) * num_pixels)\n",
    "                for c in range(y.size(1))]\n",
    "\n",
    "fig, ax = plt.subplots(figsize=(9, 6))\n",
    "ax.plot(channel_bpps, '.')\n",
    "ax.title.set_text('Per-channel bit-rate')\n",
    "ax.set_xlabel('Channel index')\n",
    "ax.set_ylabel('Channel bpp')\n",
    "plt.show()"
   ]
  },
  {
   "cell_type": "markdown",
   "metadata": {},
   "source": [
    "### Order channels by bit-rates"
   ]
  },
  {
   "cell_type": "code",
   "execution_count": null,
   "metadata": {},
   "outputs": [],
   "source": [
    "%matplotlib inline\n",
    "num_pixels = x.size(2) * x.size(3)\n",
    "\n",
    "ordered_idxs = torch.argsort(torch.Tensor(channel_bpps), descending=True)\n",
    "ordered_channel_bpps = torch.Tensor(channel_bpps)[ordered_idxs]\n",
    "\n",
    "fig, ax = plt.subplots(figsize=(9, 6))\n",
    "ax.plot(ordered_channel_bpps, '.')\n",
    "ax.title.set_text('Per-channel bit-rate (sorted)')\n",
    "ax.set_xlabel('Channel index')\n",
    "ax.set_ylabel('Channel bpp')\n",
    "plt.show()"
   ]
  },
  {
   "cell_type": "markdown",
   "metadata": {},
   "source": [
    "### Interactive per-channel visualization"
   ]
  },
  {
   "cell_type": "code",
   "execution_count": null,
   "metadata": {},
   "outputs": [],
   "source": [
    "from IPython.display import display, clear_output"
   ]
  },
  {
   "cell_type": "code",
   "execution_count": null,
   "metadata": {},
   "outputs": [],
   "source": [
    "%%capture\n",
    "%matplotlib inline\n",
    "\n",
    "fig, axes = plt.subplots(1, 2, figsize=(12, 9))\n",
    "for ax in axes:\n",
    "    ax.axis('off')\n",
    "\n",
    "out = widgets.Output()\n",
    "def show_channel(c):\n",
    "    channel = y[0, ordered_idxs[c]].cpu()\n",
    "    axes[0].imshow(channel)\n",
    "    axes[0].title.set_text(f'Y | min: {channel.min():.2f} | max: {channel.max():.2f}')\n",
    "    \n",
    "    channel = y_hat[0, ordered_idxs[c]].cpu()\n",
    "    axes[1].imshow(channel)\n",
    "    axes[1].title.set_text(f'Yhat | min: {channel.min():.2f} | max: {channel.max():.2f}')\n",
    "    with out:\n",
    "        clear_output(wait=True)\n",
    "        display(fig)"
   ]
  },
  {
   "cell_type": "code",
   "execution_count": null,
   "metadata": {},
   "outputs": [],
   "source": [
    "slider = widgets.IntSlider(min=0, max=y.size(1)-1, step=1,continuous_update=False, description='Channel idx')\n",
    "slider.observe(lambda ev: show_channel(slider.value))\n",
    "show_channel(0)\n",
    "display(widgets.VBox([out, slider]))"
   ]
  },
  {
   "cell_type": "markdown",
   "metadata": {},
   "source": [
    "## Quantized vs continuous latent"
   ]
  },
  {
   "cell_type": "code",
   "execution_count": null,
   "metadata": {},
   "outputs": [],
   "source": [
    "with torch.no_grad():\n",
    "    x_hat_y = net.g_s(y).clamp_(0, 1)\n",
    "    x_hat_y_hat = net.g_s(y_hat).clamp_(0, 1)"
   ]
  },
  {
   "cell_type": "code",
   "execution_count": null,
   "metadata": {},
   "outputs": [],
   "source": [
    "print('Decoded continuous latent:')\n",
    "print(f'PSNR: {compute_psnr(x, x_hat_y):.2f}dB')\n",
    "print(f'MS-SSIM: {compute_msssim(x, x_hat_y):.4f}')\n",
    "print()\n",
    "print('Decoded quantized latent:')\n",
    "print(f'PSNR: {compute_psnr(x, x_hat_y_hat):.2f}dB')\n",
    "print(f'MS-SSIM: {compute_msssim(x, x_hat_y_hat):.4f}')"
   ]
  },
  {
   "cell_type": "code",
   "execution_count": null,
   "metadata": {},
   "outputs": [],
   "source": [
    "%matplotlib inline\n",
    "fig, axes = plt.subplots(2, 2, figsize=(17, 9))\n",
    "for ax in axes.ravel():\n",
    "    ax.axis('off')\n",
    "    \n",
    "    axes[0][0].imshow(transforms.ToPILImage()(x_hat_y_hat.squeeze().cpu()))\n",
    "    axes[0][0].title.set_text('Quantized latent')\n",
    "    \n",
    "    axes[1][0].imshow(torch.mean((x - x_hat_y_hat).abs(), axis=1).squeeze().cpu())\n",
    "    \n",
    "    axes[0][1].imshow(transforms.ToPILImage()(x_hat_y.squeeze()))\n",
    "    axes[0][1].title.set_text('Continuous latent')\n",
    "    \n",
    "    axes[1][1].imshow(torch.mean((x - x_hat_y).abs(), axis=1).squeeze().cpu())\n",
    "\n",
    "plt.show()"
   ]
  }
 ],
 "metadata": {
  "kernelspec": {
   "display_name": "Python 3.10.9 ('licos')",
   "language": "python",
   "name": "python3"
  },
  "language_info": {
   "codemirror_mode": {
    "name": "ipython",
    "version": 3
   },
   "file_extension": ".py",
   "mimetype": "text/x-python",
   "name": "python",
   "nbconvert_exporter": "python",
   "pygments_lexer": "ipython3",
   "version": "3.10.9"
  },
  "vscode": {
   "interpreter": {
    "hash": "65ee76868ed8095f3b75d81423d4ebc7f2140f9cf799488945a679baf97fcdf7"
   }
  }
 },
 "nbformat": 4,
 "nbformat_minor": 4
}
