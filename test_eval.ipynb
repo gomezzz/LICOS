{
 "cells": [
  {
   "cell_type": "code",
   "execution_count": null,
   "metadata": {},
   "outputs": [],
   "source": [
    "import sys\n",
    "sys.path.append(\"./licos/\")\n",
    "\n",
    "import torch\n",
    "from torchvision import transforms\n",
    "import numpy as np\n",
    "import rasterio\n",
    "\n",
    "import matplotlib.pyplot as plt\n",
    "from ipywidgets import interact, widgets\n",
    "\n",
    "from dotmap import DotMap\n",
    "import toml,os \n",
    "\n",
    "import math\n",
    "from pytorch_msssim import ms_ssim\n",
    "\n",
    "from licos.model_utils import get_model\n",
    "from licos.l0_image_folder import L0ImageFolder\n",
    "from licos.l0_utils import DN_MAX\n",
    "device = 'cuda' if torch.cuda.is_available() else 'cpu'\n",
    "dataset = \"data/test/\""
   ]
  },
  {
   "cell_type": "code",
   "execution_count": null,
   "metadata": {},
   "outputs": [],
   "source": [
    "cfg = DotMap(toml.load(\"cfg/l0.toml\"), _dynamic = False)\n",
    "checkpoint_path = \"results/bmshj2018-factorizedqual=1_l0=raw_seed=42.pth.tar\""
   ]
  },
  {
   "cell_type": "code",
   "execution_count": null,
   "metadata": {},
   "outputs": [],
   "source": [
    "net = get_model(cfg.model,False,1,cfg.model_quality)\n",
    "print(f'Parameters: {sum(p.numel() for p in net.parameters())}')"
   ]
  },
  {
   "cell_type": "code",
   "execution_count": null,
   "metadata": {},
   "outputs": [],
   "source": [
    "checkpoint = torch.load(checkpoint_path, map_location=device)\n",
    "net.load_state_dict(checkpoint[\"state_dict\"])\n",
    "net.update()"
   ]
  },
  {
   "cell_type": "code",
   "execution_count": null,
   "metadata": {},
   "outputs": [],
   "source": [
    "cfg.l0_train_test_split = 0.5 # for testing\n",
    "test_data = L0ImageFolder(dataset,cfg.seed,cfg.l0_train_test_split,cfg.l0_format,cfg.l0_target_resolution_merged_m,split=\"test\")\n",
    "x = test_data[1]"
   ]
  },
  {
   "cell_type": "code",
   "execution_count": null,
   "metadata": {},
   "outputs": [],
   "source": [
    "compressed = net.compress(x.unsqueeze(0))"
   ]
  },
  {
   "cell_type": "code",
   "execution_count": null,
   "metadata": {},
   "outputs": [],
   "source": [
    "decompressed = net.decompress(compressed[\"strings\"],compressed[\"shape\"])\n",
    "x_d = decompressed[\"x_hat\"].detach()"
   ]
  },
  {
   "cell_type": "code",
   "execution_count": null,
   "metadata": {},
   "outputs": [],
   "source": [
    "# Get the byte strings and shape from the dictionary\n",
    "strings = compressed['strings']\n",
    "shape = compressed['shape']\n",
    "\n",
    "bytes = b''.join(strings[0])\n",
    "print(\"Compressed size:\",len(bytes))\n",
    "print(\"Compression ratio:\",len(bytes) / (x.shape[0]*x.shape[1]*x.shape[2]))\n",
    "buffer = np.frombuffer(bytes, dtype=np.uint8)\n",
    "c_img = buffer.reshape(shape)\n",
    "\n",
    "# Plot the c_img as a grayscale image using matplotlib\n",
    "plt.imshow(c_img, cmap='gray')\n",
    "plt.show()"
   ]
  },
  {
   "cell_type": "code",
   "execution_count": null,
   "metadata": {},
   "outputs": [],
   "source": [
    "%matplotlib inline\n",
    "plt.figure(figsize=(12, 9))\n",
    "plt.axis('off')\n",
    "plt.imshow(x_d.squeeze())\n",
    "plt.show()"
   ]
  },
  {
   "cell_type": "code",
   "execution_count": null,
   "metadata": {},
   "outputs": [],
   "source": [
    "%matplotlib inline\n",
    "plt.figure(figsize=(12, 9))\n",
    "plt.axis('off')\n",
    "plt.imshow(x.squeeze())\n",
    "plt.show()"
   ]
  },
  {
   "cell_type": "code",
   "execution_count": null,
   "metadata": {},
   "outputs": [],
   "source": [
    "with torch.no_grad():\n",
    "    out_net = net.forward(x.unsqueeze(1))\n",
    "out_net['x_hat'].clamp_(0, 1)\n",
    "print(out_net.keys())"
   ]
  },
  {
   "cell_type": "code",
   "execution_count": null,
   "metadata": {},
   "outputs": [],
   "source": [
    "out_net['x_hat'] = out_net['x_hat'][...,:x.shape[1],:x.shape[2]]\n",
    "rec_net = out_net['x_hat'].squeeze().cpu()\n",
    "diff = torch.mean((out_net['x_hat'] - x).abs(), axis=1).squeeze().cpu()"
   ]
  },
  {
   "cell_type": "code",
   "execution_count": null,
   "metadata": {},
   "outputs": [],
   "source": [
    "%matplotlib inline\n",
    "fix, axes = plt.subplots(1, 3, dpi = 400)\n",
    "for ax in axes:\n",
    "    ax.axis('off')\n",
    "    \n",
    "axes[0].imshow(x[0])\n",
    "axes[0].title.set_text('Original')\n",
    "\n",
    "axes[1].imshow(rec_net)\n",
    "axes[1].title.set_text('Reconstructed')\n",
    "\n",
    "axes[2].imshow(diff, cmap='viridis')\n",
    "axes[2].title.set_text('Difference')\n",
    "\n",
    "plt.show()"
   ]
  },
  {
   "cell_type": "code",
   "execution_count": null,
   "metadata": {},
   "outputs": [],
   "source": [
    "def compute_psnr(a, b):\n",
    "    mse = torch.mean((a - b)**2).item()\n",
    "    return -10 * math.log10(mse)\n",
    "\n",
    "def compute_msssim(a, b):\n",
    "    return ms_ssim(a, b, data_range=1.).item()\n",
    "\n",
    "def compute_bpp(out_net):\n",
    "    size = out_net['x_hat'].size()\n",
    "    num_pixels = size[0] * size[2] * size[3]\n",
    "    return sum(torch.log(likelihoods).sum() / (-math.log(2) * num_pixels)\n",
    "              for likelihoods in out_net['likelihoods'].values()).item()"
   ]
  },
  {
   "cell_type": "code",
   "execution_count": null,
   "metadata": {},
   "outputs": [],
   "source": [
    "print(f'PSNR: {compute_psnr(x.unsqueeze(0), out_net[\"x_hat\"]):.2f}dB')\n",
    "print(f'MS-SSIM: {compute_msssim(x.unsqueeze(0), out_net[\"x_hat\"]):.4f}')\n",
    "print(f'Bit-rate: {compute_bpp(out_net):.3f} bpp')"
   ]
  }
 ],
 "metadata": {
  "kernelspec": {
   "display_name": "Python 3.10.9 ('licos')",
   "language": "python",
   "name": "python3"
  },
  "language_info": {
   "codemirror_mode": {
    "name": "ipython",
    "version": 3
   },
   "file_extension": ".py",
   "mimetype": "text/x-python",
   "name": "python",
   "nbconvert_exporter": "python",
   "pygments_lexer": "ipython3",
   "version": "3.10.9"
  },
  "orig_nbformat": 4,
  "vscode": {
   "interpreter": {
    "hash": "65ee76868ed8095f3b75d81423d4ebc7f2140f9cf799488945a679baf97fcdf7"
   }
  }
 },
 "nbformat": 4,
 "nbformat_minor": 2
}
