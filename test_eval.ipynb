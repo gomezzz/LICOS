{
 "cells": [
  {
   "cell_type": "code",
   "execution_count": null,
   "metadata": {},
   "outputs": [],
   "source": [
    "import torch\n",
    "from torchvision import transforms\n",
    "import numpy as np\n",
    "import rasterio\n",
    "\n",
    "import matplotlib.pyplot as plt\n",
    "from ipywidgets import interact, widgets\n",
    "\n",
    "from dotmap import DotMap\n",
    "import toml,os \n",
    "\n",
    "import math\n",
    "from pytorch_msssim import ms_ssim\n",
    "\n",
    "from licos.model_utils import get_model\n",
    "from licos.l0_utils import DN_MAX\n",
    "device = 'cuda' if torch.cuda.is_available() else 'cpu'"
   ]
  },
  {
   "cell_type": "code",
   "execution_count": null,
   "metadata": {},
   "outputs": [],
   "source": [
    "cfg = DotMap(toml.load(\"cfg/l0.toml\"), _dynamic = False)\n",
    "checkpoint_path = \"results/bmshj2018-factorizedqual=1_l0=raw_seed=42.pth.tar\""
   ]
  },
  {
   "cell_type": "code",
   "execution_count": null,
   "metadata": {},
   "outputs": [],
   "source": [
    "net = get_model(cfg.model,False,1,cfg.model_quality)\n",
    "print(f'Parameters: {sum(p.numel() for p in net.parameters())}')"
   ]
  },
  {
   "cell_type": "code",
   "execution_count": null,
   "metadata": {},
   "outputs": [],
   "source": [
    "checkpoint = torch.load(checkpoint_path, map_location=device)\n",
    "net.load_state_dict(checkpoint[\"state_dict\"])"
   ]
  },
  {
   "cell_type": "code",
   "execution_count": null,
   "metadata": {},
   "outputs": [],
   "source": [
    "test_image_path = os.path.join(\"test.tif\")\n",
    "\n",
    "with rasterio.open(test_image_path) as src:\n",
    "    x = (\n",
    "        torch.from_numpy(src.read(1).astype(np.float32)).unsqueeze(0) / DN_MAX\n",
    "    )"
   ]
  },
  {
   "cell_type": "code",
   "execution_count": null,
   "metadata": {},
   "outputs": [],
   "source": [
    "%matplotlib inline\n",
    "plt.figure(figsize=(12, 9))\n",
    "plt.axis('off')\n",
    "plt.imshow(x[0])\n",
    "plt.show()"
   ]
  },
  {
   "cell_type": "code",
   "execution_count": null,
   "metadata": {},
   "outputs": [],
   "source": [
    "with torch.no_grad():\n",
    "    out_net = net.forward(x.unsqueeze(1))\n",
    "out_net['x_hat'].clamp_(0, 1)\n",
    "print(out_net.keys())"
   ]
  },
  {
   "cell_type": "code",
   "execution_count": null,
   "metadata": {},
   "outputs": [],
   "source": [
    "out_net['x_hat'] = out_net['x_hat'][...,:x.shape[1],:x.shape[2]]\n",
    "rec_net = out_net['x_hat'].squeeze().cpu()\n",
    "diff = torch.mean((out_net['x_hat'] - x).abs(), axis=1).squeeze().cpu()"
   ]
  },
  {
   "cell_type": "code",
   "execution_count": null,
   "metadata": {},
   "outputs": [],
   "source": [
    "%matplotlib inline\n",
    "fix, axes = plt.subplots(1, 3, dpi = 300)\n",
    "for ax in axes:\n",
    "    ax.axis('off')\n",
    "    \n",
    "axes[0].imshow(x[0])\n",
    "axes[0].title.set_text('Original')\n",
    "\n",
    "axes[1].imshow(rec_net)\n",
    "axes[1].title.set_text('Reconstructed')\n",
    "\n",
    "axes[2].imshow(diff, cmap='viridis')\n",
    "axes[2].title.set_text('Difference')\n",
    "\n",
    "plt.show()"
   ]
  },
  {
   "cell_type": "code",
   "execution_count": null,
   "metadata": {},
   "outputs": [],
   "source": [
    "def compute_psnr(a, b):\n",
    "    mse = torch.mean((a - b)**2).item()\n",
    "    return -10 * math.log10(mse)\n",
    "\n",
    "def compute_msssim(a, b):\n",
    "    return ms_ssim(a, b, data_range=1.).item()\n",
    "\n",
    "def compute_bpp(out_net):\n",
    "    size = out_net['x_hat'].size()\n",
    "    num_pixels = size[0] * size[2] * size[3]\n",
    "    return sum(torch.log(likelihoods).sum() / (-math.log(2) * num_pixels)\n",
    "              for likelihoods in out_net['likelihoods'].values()).item()"
   ]
  },
  {
   "cell_type": "code",
   "execution_count": null,
   "metadata": {},
   "outputs": [],
   "source": [
    "out_net[\"x_hat\"].shape"
   ]
  },
  {
   "cell_type": "code",
   "execution_count": null,
   "metadata": {},
   "outputs": [],
   "source": [
    "x.shape"
   ]
  },
  {
   "cell_type": "code",
   "execution_count": null,
   "metadata": {},
   "outputs": [],
   "source": [
    "print(f'PSNR: {compute_psnr(x.unsqueeze(0), out_net[\"x_hat\"]):.2f}dB')\n",
    "print(f'MS-SSIM: {compute_msssim(x.unsqueeze(0), out_net[\"x_hat\"]):.4f}')\n",
    "print(f'Bit-rate: {compute_bpp(out_net):.3f} bpp')"
   ]
  }
 ],
 "metadata": {
  "kernelspec": {
   "display_name": "Python 3.10.9 ('licos')",
   "language": "python",
   "name": "python3"
  },
  "language_info": {
   "codemirror_mode": {
    "name": "ipython",
    "version": 3
   },
   "file_extension": ".py",
   "mimetype": "text/x-python",
   "name": "python",
   "nbconvert_exporter": "python",
   "pygments_lexer": "ipython3",
   "version": "3.10.9"
  },
  "orig_nbformat": 4,
  "vscode": {
   "interpreter": {
    "hash": "65ee76868ed8095f3b75d81423d4ebc7f2140f9cf799488945a679baf97fcdf7"
   }
  }
 },
 "nbformat": 4,
 "nbformat_minor": 2
}
